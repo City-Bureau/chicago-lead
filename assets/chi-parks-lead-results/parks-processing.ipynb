{
 "cells": [
  {
   "cell_type": "code",
   "execution_count": 2,
   "metadata": {
    "collapsed": true
   },
   "outputs": [],
   "source": [
    "import pandas as pd"
   ]
  },
  {
   "cell_type": "code",
   "execution_count": 3,
   "metadata": {
    "collapsed": false
   },
   "outputs": [],
   "source": [
    "aug = pd.read_csv('prelim-chi-parks-lead-test-results-08-2016.raw.csv', header=0)\n",
    "octo = pd.read_csv('comp-chi-parks-lead-test-results-10-2016.raw.csv', header=0)"
   ]
  },
  {
   "cell_type": "code",
   "execution_count": 4,
   "metadata": {
    "collapsed": false
   },
   "outputs": [],
   "source": [
    "def process(df):\n",
    "    # cleanup\n",
    "    df.rename(columns={'park_location': 'fixture_location'}, inplace=True)\n",
    "    df['park_name'] = ['' for i in range(0, len(df))]\n",
    "\n",
    "    # get park names\n",
    "    indices = df.loc[df.result.isnull()].index\n",
    "    names = df.loc[df.result.isnull()].fixture_location\n",
    "    parks = list(zip(indices, names))\n",
    "\n",
    "    # restructure\n",
    "    for ind, park in enumerate(parks):\n",
    "        start, park = park\n",
    "        try:\n",
    "            end = parks[ind+1][0] - 1\n",
    "        except IndexError:\n",
    "            end = len(df)\n",
    "        df.loc[start:end, 'park_name'] = park\n",
    "        \n",
    "    df.drop(list(indices), inplace=True)"
   ]
  },
  {
   "cell_type": "code",
   "execution_count": 5,
   "metadata": {
    "collapsed": false
   },
   "outputs": [],
   "source": [
    "for df in (aug, octo):\n",
    "    process(df)\n",
    "\n",
    "# reorder cols\n",
    "aug = aug.ix[:, [2, 0, 1]]\n",
    "octo = octo.ix[:, [2, 0, 1]]"
   ]
  },
  {
   "cell_type": "code",
   "execution_count": 6,
   "metadata": {
    "collapsed": false
   },
   "outputs": [
    {
     "data": {
      "text/plain": [
       "True"
      ]
     },
     "execution_count": 6,
     "metadata": {},
     "output_type": "execute_result"
    }
   ],
   "source": [
    "# check for overlap\n",
    "aug_mat = aug.as_matrix()\n",
    "octo_mat = octo.as_matrix()\n",
    "\n",
    "vals = []\n",
    "for row in aug_mat:\n",
    "    vals.append(row in octo_mat)\n",
    "all(vals)"
   ]
  },
  {
   "cell_type": "code",
   "execution_count": 7,
   "metadata": {
    "collapsed": true
   },
   "outputs": [],
   "source": [
    "octo.to_csv('chi-parks-lead-test-results-10-2016.processed.csv', index=False)"
   ]
  },
  {
   "cell_type": "code",
   "execution_count": null,
   "metadata": {
    "collapsed": true
   },
   "outputs": [],
   "source": []
  }
 ],
 "metadata": {
  "kernelspec": {
   "display_name": "Python 3",
   "language": "python",
   "name": "python3"
  },
  "language_info": {
   "codemirror_mode": {
    "name": "ipython",
    "version": 3
   },
   "file_extension": ".py",
   "mimetype": "text/x-python",
   "name": "python",
   "nbconvert_exporter": "python",
   "pygments_lexer": "ipython3",
   "version": "3.5.2"
  }
 },
 "nbformat": 4,
 "nbformat_minor": 1
}
