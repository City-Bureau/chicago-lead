{
 "cells": [
  {
   "cell_type": "code",
   "execution_count": 1,
   "metadata": {
    "collapsed": true
   },
   "outputs": [],
   "source": [
    "import pandas as pd"
   ]
  },
  {
   "cell_type": "code",
   "execution_count": 2,
   "metadata": {
    "collapsed": false
   },
   "outputs": [],
   "source": [
    "octo = pd.read_csv('bad-scrape.raw.csv', names=[i for i in range(0, 4)])"
   ]
  },
  {
   "cell_type": "code",
   "execution_count": 3,
   "metadata": {
    "collapsed": true
   },
   "outputs": [],
   "source": [
    "octo_test = octo.copy()"
   ]
  },
  {
   "cell_type": "markdown",
   "metadata": {},
   "source": [
    "problems (col name where attr resides for given prob in borked csv):\n",
    "1. two empty columns separating name (0) and result (3)\n",
    "2. one empty column preceding name (2) and result (3)"
   ]
  },
  {
   "cell_type": "code",
   "execution_count": 4,
   "metadata": {
    "collapsed": false
   },
   "outputs": [],
   "source": [
    "# remove indoor/outdoor rows\n",
    "octo_test[0] = octo_test[0].str.rstrip()\n",
    "octo_test.drop(list(octo_test.loc[octo_test[0].isin(['Indoor', 'Outdoor', 'Oudoor'])].index.values), inplace=True)\n",
    "\n",
    "# where second col empty and fourth col populated, fill second col with contents of fourth (problem 1)\n",
    "octo_test.loc[(octo_test[1].isnull()) & (octo_test[3].notnull()), 1] = octo_test.loc[octo_test[1].isnull()][3]\n",
    "\n",
    "# where first column empty, fill it with value of second column (problem 2a)\n",
    "octo_test.loc[(octo_test[0].isnull()), 0] = octo_test.loc[(octo_test[0].isnull())][1]\n",
    "\n",
    "# where second column empty and third column populated, fill second col with contents of third (problem 2b)\n",
    "octo_test.loc[(octo_test[1].isnull()) & (octo_test[2].notnull()), 1] = octo_test.loc[(octo_test[1].isnull()) & (octo_test[2].notnull())][2]\n",
    "\n",
    "# remove dummy rows\n",
    "octo_test.drop([2, 3], axis=1, inplace=True)\n",
    "\n",
    "# reset the index\n",
    "octo_test.reset_index(inplace=True, drop=True)"
   ]
  },
  {
   "cell_type": "code",
   "execution_count": 5,
   "metadata": {
    "collapsed": true
   },
   "outputs": [],
   "source": [
    "def process(df):\n",
    "    # cleanup\n",
    "    df.rename(columns={0: 'fixture_location', 1: 'result_value'}, inplace=True)\n",
    "    df['park_name'] = ['' for i in range(0, len(df))]\n",
    "    \n",
    "    # get park names\n",
    "    indices = df.loc[df.result_value.isnull()].index\n",
    "    names = df.loc[df.result_value.isnull()].fixture_location\n",
    "    parks = list(zip(indices, names))\n",
    "\n",
    "    # restructure\n",
    "    for ind, park in enumerate(parks):\n",
    "        start, park = park\n",
    "        try:\n",
    "            end = parks[ind+1][0] - 1\n",
    "        except IndexError:\n",
    "            end = len(df)\n",
    "        df.loc[start:end, 'park_name'] = park\n",
    "        \n",
    "    df.drop(list(indices), inplace=True)\n",
    "    df['result_flag'] = df['result_value'].apply(lambda x: x.split(' ')[-1] if len(x.split(' ')) > 1 else '')\n",
    "    df['result_value'] = df['result_value'].apply(lambda x: x.split(' ')[0]).str.replace('˂', '<')  "
   ]
  },
  {
   "cell_type": "code",
   "execution_count": 6,
   "metadata": {
    "collapsed": false
   },
   "outputs": [],
   "source": [
    "process(octo_test)\n",
    "octo_test = octo_test.ix[:, [2, 0, 1, 3]]"
   ]
  },
  {
   "cell_type": "code",
   "execution_count": 7,
   "metadata": {
    "collapsed": true
   },
   "outputs": [],
   "source": [
    "octo_test.to_csv('chi-parks-lead-results-10-2016.processed.csv', index=False)"
   ]
  },
  {
   "cell_type": "code",
   "execution_count": null,
   "metadata": {
    "collapsed": true
   },
   "outputs": [],
   "source": []
  }
 ],
 "metadata": {
  "kernelspec": {
   "display_name": "Python 3",
   "language": "python",
   "name": "python3"
  },
  "language_info": {
   "codemirror_mode": {
    "name": "ipython",
    "version": 3
   },
   "file_extension": ".py",
   "mimetype": "text/x-python",
   "name": "python",
   "nbconvert_exporter": "python",
   "pygments_lexer": "ipython3",
   "version": "3.5.2"
  }
 },
 "nbformat": 4,
 "nbformat_minor": 1
}
